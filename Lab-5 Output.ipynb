{
 "cells": [
  {
   "cell_type": "code",
   "execution_count": 14,
   "id": "robust-cylinder",
   "metadata": {},
   "outputs": [
    {
     "name": "stdin",
     "output_type": "stream",
     "text": [
      "Hi! Enter your name. sam\n",
      "Please enter a number between 1 and 10. 5\n"
     ]
    },
    {
     "name": "stdout",
     "output_type": "stream",
     "text": [
      "Wow  sam good guess! You guessed correctly!\n"
     ]
    }
   ],
   "source": [
    "import random\n",
    "\n",
    "rand_num = random.randint(1, 10)\n",
    "name_input = input(\"Hi! Enter your name.\")\n",
    "user_input = int(input(\"Please enter a number between 1 and 10.\"))\n",
    "\n",
    "if user_input == rand_num:\n",
    "    print(\"Wow \", name_input, \"good guess! You guessed correctly!\")\n",
    "else:\n",
    "    print(\"Sorry\", name_input, \"your guess is incorrect. Better luck next time!\")\n"
   ]
  }
 ],
 "metadata": {
  "kernelspec": {
   "display_name": "Python 3",
   "language": "python",
   "name": "python3"
  },
  "language_info": {
   "codemirror_mode": {
    "name": "ipython",
    "version": 3
   },
   "file_extension": ".py",
   "mimetype": "text/x-python",
   "name": "python",
   "nbconvert_exporter": "python",
   "pygments_lexer": "ipython3",
   "version": "3.8.5"
  }
 },
 "nbformat": 4,
 "nbformat_minor": 5
}
